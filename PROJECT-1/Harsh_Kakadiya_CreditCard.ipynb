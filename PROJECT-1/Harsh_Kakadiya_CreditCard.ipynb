{
 "cells": [
  {
   "cell_type": "markdown",
   "id": "f2dcc279",
   "metadata": {},
   "source": [
    "# Credit Card Fraud Detection\n",
    "\n",
    "In this notebook, we construct and assess a model that can flag suspicious transactions as potentially fraudulent using credit card transaction data."
   ]
  },
  {
   "cell_type": "markdown",
   "id": "fd2a8c13",
   "metadata": {},
   "source": [
    "### Step 1: Environment and Data Initialization\n",
    "\n",
    "We begin by bringing in essential libraries that support data operations, analysis, and visualization."
   ]
  },
  {
   "cell_type": "code",
   "execution_count": 1,
   "id": "33cd9291",
   "metadata": {},
   "outputs": [],
   "source": [
    "import numpy as numpy\n",
    "import pandas as pd\n",
    "import matplotlib.pyplot as plt"
   ]
  },
  {
   "cell_type": "code",
   "execution_count": 2,
   "id": "584d2fac",
   "metadata": {},
   "outputs": [],
   "source": [
    "df = pd.read_csv("C:/Users/DELL/Downloads/creditcard (1).csv\")"
   ]
  },
  {
   "cell_type": "markdown",
   "id": "94f4da7a",
   "metadata": {},
   "source": [
    "# Step 2: Exploratory Data Analysis (EDA)\n",
    "\n",
    "Understanding the dataset's dimensions and contents helps us prepare for model development by identifying potential issues and opportunities in the data."
   ]
  },
  {
   "cell_type": "code",
   "execution_count": 3,
   "id": "9f593be5",
   "metadata": {},
   "outputs": [
    {
     "data": {
      "text/plain": [
       "(284807, 31)"
      ]
     },
     "execution_count": 3,
     "metadata": {},
     "output_type": "execute_result"
    }
   ],
   "source": [
    "df.shape"
   ]
  },
  {
   "cell_type": "markdown",
   "id": "9bd6becd",
   "metadata": {},
   "source": [
    "This line reveals the structure of the dataset, highlighting the total number of records and features."
   ]
  },
  {
   "cell_type": "code",
   "execution_count": 4,
   "id": "255ef563",
   "metadata": {},
   "outputs": [
    {
     "data": {
      "text/plain": [
       "Time      0\n",
       "V1        0\n",
       "V2        0\n",
       "V3        0\n",
       "V4        0\n",
       "V5        0\n",
       "V6        0\n",
       "V7        0\n",
       "V8        0\n",
       "V9        0\n",
       "V10       0\n",
       "V11       0\n",
       "V12       0\n",
       "V13       0\n",
       "V14       0\n",
       "V15       0\n",
       "V16       0\n",
       "V17       0\n",
       "V18       0\n",
       "V19       0\n",
       "V20       0\n",
       "V21       0\n",
       "V22       0\n",
       "V23       0\n",
       "V24       0\n",
       "V25       0\n",
       "V26       0\n",
       "V27       0\n",
       "V28       0\n",
       "Amount    0\n",
       "Class     0\n",
       "dtype: int64"
      ]
     },
     "execution_count": 4,
     "metadata": {},
     "output_type": "execute_result"
    }
   ],
   "source": [
    "df.isna().sum()"
   ]
  },
  {
   "cell_type": "markdown",
   "id": "814fa5da",
   "metadata": {},
   "source": [
    "```df.isna().sum()```  \n",
    "This checks for missing (NaN/null) values in each column.  \n",
    "There are no missing values in any of the columns. This is excellent, as it means we don't need to perform any imputation or removal of rows/columns due to missing data."
   ]
  },
  {
   "cell_type": "code",
   "execution_count": 5,
   "id": "27a934fc",
   "metadata": {},
   "outputs": [
    {
     "data": {
      "text/html": [
       "<div>\n",
       "<style scoped>\n",
       "    .dataframe tbody tr th:only-of-type {\n",
       "        vertical-align: middle;\n",
       "    }\n",
       "\n",
       "    .dataframe tbody tr th {\n",
       "        vertical-align: top;\n",
       "    }\n",
       "\n",
       "    .dataframe thead th {\n",
       "        text-align: right;\n",
       "    }\n",
       "</style>\n",
       "<table border=\"1\" class=\"dataframe\">\n",
       "  <thead>\n",
       "    <tr style=\"text-align: right;\">\n",
       "      <th></th>\n",
       "      <th>Time</th>\n",
       "      <th>V1</th>\n",
       "      <th>V2</th>\n",
       "      <th>V3</th>\n",
       "      <th>V4</th>\n",
       "      <th>V5</th>\n",
       "      <th>V6</th>\n",
       "      <th>V7</th>\n",
       "      <th>V8</th>\n",
       "      <th>V9</th>\n",
       "      <th>...</th>\n",
       "      <th>V21</th>\n",
       "      <th>V22</th>\n",
       "      <th>V23</th>\n",
       "      <th>V24</th>\n",
       "      <th>V25</th>\n",
       "      <th>V26</th>\n",
       "      <th>V27</th>\n",
       "      <th>V28</th>\n",
       "      <th>Amount</th>\n",
       "      <th>Class</th>\n",
       "    </tr>\n",
       "  </thead>\n",
       "  <tbody>\n",
       "    <tr>\n",
       "      <th>count</th>\n",
       "      <td>284807.000000</td>\n",
       "      <td>2.848070e+05</td>\n",
       "      <td>2.848070e+05</td>\n",
       "      <td>2.848070e+05</td>\n",
       "      <td>2.848070e+05</td>\n",
       "      <td>2.848070e+05</td>\n",
       "      <td>2.848070e+05</td>\n",
       "      <td>2.848070e+05</td>\n",
       "      <td>2.848070e+05</td>\n",
       "      <td>2.848070e+05</td>\n",
       "      <td>...</td>\n",
       "      <td>2.848070e+05</td>\n",
       "      <td>2.848070e+05</td>\n",
       "      <td>2.848070e+05</td>\n",
       "      <td>2.848070e+05</td>\n",
       "      <td>2.848070e+05</td>\n",
       "      <td>2.848070e+05</td>\n",
       "      <td>2.848070e+05</td>\n",
       "      <td>2.848070e+05</td>\n",
       "      <td>284807.000000</td>\n",
       "      <td>284807.000000</td>\n",
       "    </tr>\n",
       "    <tr>\n",
       "      <th>mean</th>\n",
       "      <td>94813.859575</td>\n",
       "      <td>1.168375e-15</td>\n",
       "      <td>3.416908e-16</td>\n",
       "      <td>-1.379537e-15</td>\n",
       "      <td>2.074095e-15</td>\n",
       "      <td>9.604066e-16</td>\n",
       "      <td>1.487313e-15</td>\n",
       "      <td>-5.556467e-16</td>\n",
       "      <td>1.213481e-16</td>\n",
       "      <td>-2.406331e-15</td>\n",
       "      <td>...</td>\n",
       "      <td>1.654067e-16</td>\n",
       "      <td>-3.568593e-16</td>\n",
       "      <td>2.578648e-16</td>\n",
       "      <td>4.473266e-15</td>\n",
       "      <td>5.340915e-16</td>\n",
       "      <td>1.683437e-15</td>\n",
       "      <td>-3.660091e-16</td>\n",
       "      <td>-1.227390e-16</td>\n",
       "      <td>88.349619</td>\n",
       "      <td>0.001727</td>\n",
       "    </tr>\n",
       "    <tr>\n",
       "      <th>std</th>\n",
       "      <td>47488.145955</td>\n",
       "      <td>1.958696e+00</td>\n",
       "      <td>1.651309e+00</td>\n",
       "      <td>1.516255e+00</td>\n",
       "      <td>1.415869e+00</td>\n",
       "      <td>1.380247e+00</td>\n",
       "      <td>1.332271e+00</td>\n",
       "      <td>1.237094e+00</td>\n",
       "      <td>1.194353e+00</td>\n",
       "      <td>1.098632e+00</td>\n",
       "      <td>...</td>\n",
       "      <td>7.345240e-01</td>\n",
       "      <td>7.257016e-01</td>\n",
       "      <td>6.244603e-01</td>\n",
       "      <td>6.056471e-01</td>\n",
       "      <td>5.212781e-01</td>\n",
       "      <td>4.822270e-01</td>\n",
       "      <td>4.036325e-01</td>\n",
       "      <td>3.300833e-01</td>\n",
       "      <td>250.120109</td>\n",
       "      <td>0.041527</td>\n",
       "    </tr>\n",
       "    <tr>\n",
       "      <th>min</th>\n",
       "      <td>0.000000</td>\n",
       "      <td>-5.640751e+01</td>\n",
       "      <td>-7.271573e+01</td>\n",
       "      <td>-4.832559e+01</td>\n",
       "      <td>-5.683171e+00</td>\n",
       "      <td>-1.137433e+02</td>\n",
       "      <td>-2.616051e+01</td>\n",
       "      <td>-4.355724e+01</td>\n",
       "      <td>-7.321672e+01</td>\n",
       "      <td>-1.343407e+01</td>\n",
       "      <td>...</td>\n",
       "      <td>-3.483038e+01</td>\n",
       "      <td>-1.093314e+01</td>\n",
       "      <td>-4.480774e+01</td>\n",
       "      <td>-2.836627e+00</td>\n",
       "      <td>-1.029540e+01</td>\n",
       "      <td>-2.604551e+00</td>\n",
       "      <td>-2.256568e+01</td>\n",
       "      <td>-1.543008e+01</td>\n",
       "      <td>0.000000</td>\n",
       "      <td>0.000000</td>\n",
       "    </tr>\n",
       "    <tr>\n",
       "      <th>25%</th>\n",
       "      <td>54201.500000</td>\n",
       "      <td>-9.203734e-01</td>\n",
       "      <td>-5.985499e-01</td>\n",
       "      <td>-8.903648e-01</td>\n",
       "      <td>-8.486401e-01</td>\n",
       "      <td>-6.915971e-01</td>\n",
       "      <td>-7.682956e-01</td>\n",
       "      <td>-5.540759e-01</td>\n",
       "      <td>-2.086297e-01</td>\n",
       "      <td>-6.430976e-01</td>\n",
       "      <td>...</td>\n",
       "      <td>-2.283949e-01</td>\n",
       "      <td>-5.423504e-01</td>\n",
       "      <td>-1.618463e-01</td>\n",
       "      <td>-3.545861e-01</td>\n",
       "      <td>-3.171451e-01</td>\n",
       "      <td>-3.269839e-01</td>\n",
       "      <td>-7.083953e-02</td>\n",
       "      <td>-5.295979e-02</td>\n",
       "      <td>5.600000</td>\n",
       "      <td>0.000000</td>\n",
       "    </tr>\n",
       "    <tr>\n",
       "      <th>50%</th>\n",
       "      <td>84692.000000</td>\n",
       "      <td>1.810880e-02</td>\n",
       "      <td>6.548556e-02</td>\n",
       "      <td>1.798463e-01</td>\n",
       "      <td>-1.984653e-02</td>\n",
       "      <td>-5.433583e-02</td>\n",
       "      <td>-2.741871e-01</td>\n",
       "      <td>4.010308e-02</td>\n",
       "      <td>2.235804e-02</td>\n",
       "      <td>-5.142873e-02</td>\n",
       "      <td>...</td>\n",
       "      <td>-2.945017e-02</td>\n",
       "      <td>6.781943e-03</td>\n",
       "      <td>-1.119293e-02</td>\n",
       "      <td>4.097606e-02</td>\n",
       "      <td>1.659350e-02</td>\n",
       "      <td>-5.213911e-02</td>\n",
       "      <td>1.342146e-03</td>\n",
       "      <td>1.124383e-02</td>\n",
       "      <td>22.000000</td>\n",
       "      <td>0.000000</td>\n",
       "    </tr>\n",
       "    <tr>\n",
       "      <th>75%</th>\n",
       "      <td>139320.500000</td>\n",
       "      <td>1.315642e+00</td>\n",
       "      <td>8.037239e-01</td>\n",
       "      <td>1.027196e+00</td>\n",
       "      <td>7.433413e-01</td>\n",
       "      <td>6.119264e-01</td>\n",
       "      <td>3.985649e-01</td>\n",
       "      <td>5.704361e-01</td>\n",
       "      <td>3.273459e-01</td>\n",
       "      <td>5.971390e-01</td>\n",
       "      <td>...</td>\n",
       "      <td>1.863772e-01</td>\n",
       "      <td>5.285536e-01</td>\n",
       "      <td>1.476421e-01</td>\n",
       "      <td>4.395266e-01</td>\n",
       "      <td>3.507156e-01</td>\n",
       "      <td>2.409522e-01</td>\n",
       "      <td>9.104512e-02</td>\n",
       "      <td>7.827995e-02</td>\n",
       "      <td>77.165000</td>\n",
       "      <td>0.000000</td>\n",
       "    </tr>\n",
       "    <tr>\n",
       "      <th>max</th>\n",
       "      <td>172792.000000</td>\n",
       "      <td>2.454930e+00</td>\n",
       "      <td>2.205773e+01</td>\n",
       "      <td>9.382558e+00</td>\n",
       "      <td>1.687534e+01</td>\n",
       "      <td>3.480167e+01</td>\n",
       "      <td>7.330163e+01</td>\n",
       "      <td>1.205895e+02</td>\n",
       "      <td>2.000721e+01</td>\n",
       "      <td>1.559499e+01</td>\n",
       "      <td>...</td>\n",
       "      <td>2.720284e+01</td>\n",
       "      <td>1.050309e+01</td>\n",
       "      <td>2.252841e+01</td>\n",
       "      <td>4.584549e+00</td>\n",
       "      <td>7.519589e+00</td>\n",
       "      <td>3.517346e+00</td>\n",
       "      <td>3.161220e+01</td>\n",
       "      <td>3.384781e+01</td>\n",
       "      <td>25691.160000</td>\n",
       "      <td>1.000000</td>\n",
       "    </tr>\n",
       "  </tbody>\n",
       "</table>\n",
       "<p>8 rows × 31 columns</p>\n",
       "</div>"
      ],
      "text/plain": [
       "                Time            V1            V2            V3            V4  \\\n",
       "count  284807.000000  2.848070e+05  2.848070e+05  2.848070e+05  2.848070e+05   \n",
       "mean    94813.859575  1.168375e-15  3.416908e-16 -1.379537e-15  2.074095e-15   \n",
       "std     47488.145955  1.958696e+00  1.651309e+00  1.516255e+00  1.415869e+00   \n",
       "min         0.000000 -5.640751e+01 -7.271573e+01 -4.832559e+01 -5.683171e+00   \n",
       "25%     54201.500000 -9.203734e-01 -5.985499e-01 -8.903648e-01 -8.486401e-01   \n",
       "50%     84692.000000  1.810880e-02  6.548556e-02  1.798463e-01 -1.984653e-02   \n",
       "75%    139320.500000  1.315642e+00  8.037239e-01  1.027196e+00  7.433413e-01   \n",
       "max    172792.000000  2.454930e+00  2.205773e+01  9.382558e+00  1.687534e+01   \n",
       "\n",
       "                 V5            V6            V7            V8            V9  \\\n",
       "count  2.848070e+05  2.848070e+05  2.848070e+05  2.848070e+05  2.848070e+05   \n",
       "mean   9.604066e-16  1.487313e-15 -5.556467e-16  1.213481e-16 -2.406331e-15   \n",
       "std    1.380247e+00  1.332271e+00  1.237094e+00  1.194353e+00  1.098632e+00   \n",
       "min   -1.137433e+02 -2.616051e+01 -4.355724e+01 -7.321672e+01 -1.343407e+01   \n",
       "25%   -6.915971e-01 -7.682956e-01 -5.540759e-01 -2.086297e-01 -6.430976e-01   \n",
       "50%   -5.433583e-02 -2.741871e-01  4.010308e-02  2.235804e-02 -5.142873e-02   \n",
       "75%    6.119264e-01  3.985649e-01  5.704361e-01  3.273459e-01  5.971390e-01   \n",
       "max    3.480167e+01  7.330163e+01  1.205895e+02  2.000721e+01  1.559499e+01   \n",
       "\n",
       "       ...           V21           V22           V23           V24  \\\n",
       "count  ...  2.848070e+05  2.848070e+05  2.848070e+05  2.848070e+05   \n",
       "mean   ...  1.654067e-16 -3.568593e-16  2.578648e-16  4.473266e-15   \n",
       "std    ...  7.345240e-01  7.257016e-01  6.244603e-01  6.056471e-01   \n",
       "min    ... -3.483038e+01 -1.093314e+01 -4.480774e+01 -2.836627e+00   \n",
       "25%    ... -2.283949e-01 -5.423504e-01 -1.618463e-01 -3.545861e-01   \n",
       "50%    ... -2.945017e-02  6.781943e-03 -1.119293e-02  4.097606e-02   \n",
       "75%    ...  1.863772e-01  5.285536e-01  1.476421e-01  4.395266e-01   \n",
       "max    ...  2.720284e+01  1.050309e+01  2.252841e+01  4.584549e+00   \n",
       "\n",
       "                V25           V26           V27           V28         Amount  \\\n",
       "count  2.848070e+05  2.848070e+05  2.848070e+05  2.848070e+05  284807.000000   \n",
       "mean   5.340915e-16  1.683437e-15 -3.660091e-16 -1.227390e-16      88.349619   \n",
       "std    5.212781e-01  4.822270e-01  4.036325e-01  3.300833e-01     250.120109   \n",
       "min   -1.029540e+01 -2.604551e+00 -2.256568e+01 -1.543008e+01       0.000000   \n",
       "25%   -3.171451e-01 -3.269839e-01 -7.083953e-02 -5.295979e-02       5.600000   \n",
       "50%    1.659350e-02 -5.213911e-02  1.342146e-03  1.124383e-02      22.000000   \n",
       "75%    3.507156e-01  2.409522e-01  9.104512e-02  7.827995e-02      77.165000   \n",
       "max    7.519589e+00  3.517346e+00  3.161220e+01  3.384781e+01   25691.160000   \n",
       "\n",
       "               Class  \n",
       "count  284807.000000  \n",
       "mean        0.001727  \n",
       "std         0.041527  \n",
       "min         0.000000  \n",
       "25%         0.000000  \n",
       "50%         0.000000  \n",
       "75%         0.000000  \n",
       "max         1.000000  \n",
       "\n",
       "[8 rows x 31 columns]"
      ]
     },
     "execution_count": 5,
     "metadata": {},
     "output_type": "execute_result"
    }
   ],
   "source": [
    "df.describe()"
   ]
  },
  {
   "cell_type": "markdown",
   "id": "07cb3c36",
   "metadata": {},
   "source": [
    "This provides descriptive statistics for numerical columns, such as count, mean, standard deviation, min, max, and quartile values.  \n",
    "Most columns (V1 through V28) are anonymized features, likely obtained through a technique called PCA (Principal Component Analysis) to protect user privacy.  \n",
    "The Time column represents the seconds elapsed between each transaction and the first transaction in the dataset.  \n",
    "The Amount column shows the transaction amount.  \n",
    "The Class column is our target variable, where 0 indicates a legitimate transaction and 1 indicates a fraudulent one.  \n",
    "The mean of the Class column is 0.001727, which is very close to zero.  \n",
    "This immediately signals a severe class imbalance: fraudulent transactions are very rare."
   ]
  },
  {
   "cell_type": "markdown",
   "id": "4c8c5746",
   "metadata": {},
   "source": [
    "#### Renaming 'Class' Values\n",
    "The numerical 0 and 1 in the Class column are replaced with more descriptive labels 'Not Fraud' and 'Fraud' for better readability and understanding of results."
   ]
  },
  {
   "cell_type": "code",
   "execution_count": 6,
   "id": "df1d15dd",
   "metadata": {},
   "outputs": [],
   "source": [
    "df['Class'] = df['Class'].replace({0:'Not Fraud',1:'Fraud'})"
   ]
  },
  {
   "cell_type": "markdown",
   "id": "31b5ed4d",
   "metadata": {},
   "source": [
    "This counts the occurrences of each unique value in the 'Class' column."
   ]
  },
  {
   "cell_type": "code",
   "execution_count": 7,
   "id": "3c2ba74a",
   "metadata": {},
   "outputs": [
    {
     "data": {
      "text/plain": [
       "Class\n",
       "Not Fraud    284315\n",
       "Fraud           492\n",
       "Name: count, dtype: int64"
      ]
     },
     "execution_count": 7,
     "metadata": {},
     "output_type": "execute_result"
    }
   ],
   "source": [
    "df['Class'].value_counts()"
   ]
  },
  {
   "cell_type": "markdown",
   "id": "4c00f1f0",
   "metadata": {},
   "source": [
    "This confirms the extreme imbalance in the dataset. Out of 284,807 transactions, 284,315 are legitimate, while only 492 are fraudulent. This means fraud accounts for approximately (492 / 284807) * 100 = 0.17% of the total transactions. This imbalance is a significant challenge for machine learning models, as they might be biased towards the majority class ('Not Fraud')."
   ]
  },
  {
   "cell_type": "markdown",
   "id": "59ff91d8",
   "metadata": {},
   "source": [
    "#### Fraud Pie Chart\n",
    "A pie chart is generated to visually represent the distribution of 'Fraud' vs. 'Not Fraud' transactions."
   ]
  },
  {
   "cell_type": "code",
   "execution_count": 8,
   "id": "a0c08605",
   "metadata": {},
   "outputs": [
    {
     "data": {
      "image/png": "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",
      "text/plain": [
       "<Figure size 1000x800 with 1 Axes>"
      ]
     },
     "metadata": {},
     "output_type": "display_data"
    }
   ],
   "source": [
    "fraud = df['Class'].value_counts()\n",
    "label = ['Not Fraud', 'Fraud']\n",
    "color = ['green','red']\n",
    "\n",
    "plt.figure(figsize=(10,8))\n",
    "plt.pie(fraud, labels=label, autopct='%1.1f%%' ) \n",
    "plt.title(\"Fraud Pie Chart\")\n",
    "plt.show()"
   ]
  },
  {
   "cell_type": "markdown",
   "id": "5cdad745",
   "metadata": {},
   "source": [
    " The pie chart dramatically shows the imbalance, with the 'Fraud' slice being almost zero, highlighting the rarity of fraudulent transactions."
   ]
  },
  {
   "cell_type": "markdown",
   "id": "7c61050a",
   "metadata": {},
   "source": [
    "# 3. Data Preparation\n",
    "Before training a machine learning model, the data needs to be structured appropriately."
   ]
  },
  {
   "cell_type": "markdown",
   "id": "88029e03",
   "metadata": {},
   "source": [
    "#### Separating Features (X) and Target (Y)  \n",
    "The dataset is divided into two parts:  \n",
    "x (Features): Contains all columns from the DataFrame except the 'Class' column. These are the input variables the model will use to make predictions.  \n",
    "y (Target): Contains only the 'Class' column. This is the output variable that the model will try to predict."
   ]
  },
  {
   "cell_type": "code",
   "execution_count": 9,
   "id": "9c654a35",
   "metadata": {},
   "outputs": [],
   "source": [
    "x = df.drop('Class',axis=1)\n",
    "y = df['Class']"
   ]
  },
  {
   "cell_type": "markdown",
   "id": "0ab38244",
   "metadata": {},
   "source": [
    "#### Splitting Data into Training and Testing Sets  \n",
    "The dataset is split into training and testing subsets to evaluate the model's performance on unseen data.  \n",
    "train_test_split: A function from scikit-learn for splitting arrays or matrices into random train and test subsets.  \n",
    "test_size=0.2: 20% of the data will be used for testing, and the remaining 80% for training.  \n",
    "random_state=7: This ensures reproducibility. If you run the code multiple times, the data will be split in the exact same way.  \n"
   ]
  },
  {
   "cell_type": "code",
   "execution_count": 12,
   "id": "2e4ed392",
   "metadata": {},
   "outputs": [],
   "source": [
    "from sklearn.model_selection import train_test_split\n",
    "\n",
    "x_train, x_test, y_train, y_test = train_test_split(x, y, test_size=0.2, random_state=7)"
   ]
  },
  {
   "cell_type": "markdown",
   "id": "3cf1b061",
   "metadata": {},
   "source": [
    "Output: len(x_train),len(x_test) shows (227845, 56962).  \n",
    "This confirms that 227,845 samples are used for training and 56,962 samples for testing."
   ]
  },
  {
   "cell_type": "markdown",
   "id": "cb4836d1",
   "metadata": {},
   "source": [
    "#### Feature Scaling (StandardScaler)\n",
    "Feature scaling is applied to standardize the range of independent variables or features. \n",
    "\n",
    "StandardScaler: Transforms data such that its mean is 0 and standard deviation is 1 (Z-score normalization). This is important for algorithms that are sensitive to feature scales (like Logistic Regression or K-Nearest Neighbors).  \n",
    "\n",
    "sc.fit_transform(x_train): The StandardScaler is fitted (learns the mean and standard deviation) only on the training data and then transforms it.  \n",
    "\n",
    "sc.transform(x_test): The same scaler (with means and standard deviations learned from x_train) is used to transform the test data. This prevents \"data leakage\" where information from the test set could influence the training process.  "
   ]
  },
  {
   "cell_type": "code",
   "execution_count": 13,
   "id": "bcab14c7",
   "metadata": {},
   "outputs": [
    {
     "data": {
      "text/plain": [
       "(227845, 56962)"
      ]
     },
     "execution_count": 13,
     "metadata": {},
     "output_type": "execute_result"
    }
   ],
   "source": [
    "len(x_train),len(x_test)"
   ]
  },
  {
   "cell_type": "markdown",
   "id": "2460ffe3",
   "metadata": {},
   "source": [
    "# 4. Model Training & Evaluation\n",
    "This section involves selecting a machine learning model, training it, and then evaluating its performance."
   ]
  },
  {
   "cell_type": "code",
   "execution_count": 14,
   "id": "46ea2eb6",
   "metadata": {},
   "outputs": [],
   "source": [
    "from sklearn.preprocessing import StandardScaler"
   ]
  },
  {
   "cell_type": "code",
   "execution_count": 15,
   "id": "4651698d",
   "metadata": {},
   "outputs": [],
   "source": [
    "sc = StandardScaler()\n",
    "\n",
    "x_train_sc = sc.fit_transform(x_train)\n",
    "x_test_sc = sc.transform(x_test)"
   ]
  },
  {
   "cell_type": "markdown",
   "id": "305c4c4e",
   "metadata": {},
   "source": [
    "#### Logistic Regression Model\n",
    "Logistic Regression is a common algorithm for binary classification problems.  \n",
    "\n",
    "LogisticRegression(): An instance of the Logistic Regression model is created.  \n",
    "model.fit(x_train_sc, y_train): The model is trained using the scaled training features (x_train_sc) and their corresponding target labels (y_train).  \n",
    "y_pred = model.predict(x_test_sc): After training, the model predicts the 'Class' for the scaled test features (x_test_sc).  "
   ]
  },
  {
   "cell_type": "code",
   "execution_count": null,
   "id": "41a39725",
   "metadata": {},
   "outputs": [],
   "source": [
    "from sklearn.linear_model import LogisticRegression\n",
    "from sklearn.metrics import accuracy_score, confusion_matrix, classification_report"
   ]
  },
  {
   "cell_type": "code",
   "execution_count": null,
   "id": "6d635079",
   "metadata": {},
   "outputs": [
    {
     "name": "stdout",
     "output_type": "stream",
     "text": [
      "Logistic regression accuracy_score:  99.90344440153085\n",
      "\n",
      "Confusion Matrix:\n",
      "[[   56    44]\n",
      " [   11 56851]]\n"
     ]
    },
    {
     "data": {
      "text/plain": [
       "Text(0.5, 1.0, 'Confusion Matrix')"
      ]
     },
     "execution_count": 41,
     "metadata": {},
     "output_type": "execute_result"
    },
    {
     "data": {
      "image/png": "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",
      "text/plain": [
       "<Figure size 640x480 with 2 Axes>"
      ]
     },
     "metadata": {},
     "output_type": "display_data"
    }
   ],
   "source": [
    "lr_model = LogisticRegression()\n",
    "\n",
    "lr_model.fit(x_train_sc,y_train)\n",
    "y_pred  =lr_model.predict(x_test_sc)\n",
    "\n",
    "lr_accu = accuracy_score(y_pred,y_test)\n",
    "print(\"Logistic regression accuracy_score: \",lr_accu*100)\n",
    "\n",
    "print(\"\\nConfusion Matrix:\")\n",
    "print(confusion_matrix(y_test,y_pred))\n",
    "\n",
    "import seaborn as sns\n",
    "cm_lr=confusion_matrix(y_test,y_pred)\n",
    "\n",
    "sns.heatmap(cm_lr,annot=True,cmap='Blues')\n",
    "plt.title(\"Confusion Matrix\")"
   ]
  },
  {
   "cell_type": "code",
   "execution_count": 57,
   "id": "8e52db9a",
   "metadata": {},
   "outputs": [
    {
     "name": "stdout",
     "output_type": "stream",
     "text": [
      "\n",
      "Classification Report:\n",
      "              precision    recall  f1-score   support\n",
      "\n",
      "   Not Fraud       0.84      0.56      0.67       100\n",
      "       Fraud       1.00      1.00      1.00     56862\n",
      "\n",
      "    accuracy                           1.00     56962\n",
      "   macro avg       0.92      0.78      0.84     56962\n",
      "weighted avg       1.00      1.00      1.00     56962\n",
      "\n"
     ]
    }
   ],
   "source": [
    "print(\"\\nClassification Report:\")\n",
    "print(classification_report(y_test, y_pred, target_names=['Not Fraud', 'Fraud']))"
   ]
  },
  {
   "cell_type": "markdown",
   "id": "0c6f639c",
   "metadata": {},
   "source": [
    "#### Accuracy Score\n",
    "Accuracy measures the proportion of total predictions that were correct.  \n",
    "\n",
    "lr_accu = accuracy_score(y_pred,y_test): Calculates the accuracy by comparing the model's predictions (y_pred) with the actual test labels (y_test).  \n",
    "Output: accuracy_score: 99.90344440153085  \n",
    "Explanation: The model achieved an accuracy of approximately 99.90%. While this number seems very high, it is misleading in the context of our highly imbalanced dataset.  \n",
    "\n",
    "#### A simple model that always predicts 'Not Fraud' would achieve an accuracy of 284315 / 284807 ≈ 99.90%. Therefore, accuracy alone is not a sufficient metric for evaluating fraud detection models."
   ]
  },
  {
   "cell_type": "markdown",
   "id": "5faa216c",
   "metadata": {},
   "source": [
    "#### Confusion Matrix\n",
    "\n",
    "A confusion matrix provides a more detailed breakdown of correct and incorrect classifications for each class.  \n",
    "cm = pd.crosstab(y_test, y_pred, rownames=['Actual'], colnames=['Predicted']): This command generates the confusion matrix table.  \n",
    "#### Interpretation of the Confusion Matrix:\n",
    "True Negatives (TN - Not Fraud Actual, Not Fraud Predicted): 56,851 transactions were correctly identified as legitimate.  \n",
    "False Positives (FP - Not Fraud Actual, Fraud Predicted): 11 legitimate transactions were incorrectly classified as fraudulent (false alarms).  \n",
    "False Negatives (FN - Fraud Actual, Not Fraud Predicted): 44 fraudulent transactions were incorrectly classified as legitimate. This is the most critical error in fraud detection, as these are the frauds that go undetected.  \n",
    "True Positives (TP - Fraud Actual, Fraud Predicted): 56 fraudulent transactions were correctly identified.  \n",
    "Conclusion from Confusion Matrix: Out of a total of 56 + 44 = 100 actual fraudulent transactions in the test set, the model only successfully detected 56 of them. This means 44% of the actual fraud cases were missed by the model, which is a significant weakness for a fraud detection system, despite the high overall accuracy.\n",
    "\n",
    "#### Confusion Matrix Heatmap\n",
    "The confusion matrix is visualized as a heatmap for easier interpretation.\n",
    "The heatmap clearly shows the vast number of correctly predicted 'Not Fraud' transactions (the large value in the bottom-right cell) and the smaller but significant number of missed frauds (False Negatives) in the top-right cell."
   ]
  },
  {
   "cell_type": "code",
   "execution_count": 42,
   "id": "3e99e4c5",
   "metadata": {},
   "outputs": [
    {
     "name": "stdout",
     "output_type": "stream",
     "text": [
      "Decision Tree Accuracy:  99.91046662687407\n",
      "\n",
      "Confusion Matrix:\n",
      "[[   79    21]\n",
      " [   30 56832]]\n"
     ]
    },
    {
     "data": {
      "text/plain": [
       "Text(0.5, 1.0, 'Confusion Matrix')"
      ]
     },
     "execution_count": 42,
     "metadata": {},
     "output_type": "execute_result"
    },
    {
     "data": {
      "image/png": "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",
      "text/plain": [
       "<Figure size 640x480 with 2 Axes>"
      ]
     },
     "metadata": {},
     "output_type": "display_data"
    }
   ],
   "source": [
    "from sklearn.tree import DecisionTreeClassifier\n",
    "\n",
    "dt_model = DecisionTreeClassifier(random_state=42)\n",
    "dt_model.fit(x_train_sc, y_train)\n",
    "y_pred_dt = dt_model.predict(x_test_sc)\n",
    "\n",
    "dt_accu = accuracy_score(y_pred_dt, y_test)\n",
    "\n",
    "print(\"Decision Tree Accuracy: \",dt_accu * 100)\n",
    "\n",
    "cm_dt = confusion_matrix(y_test, y_pred_dt)\n",
    "\n",
    "print(\"\\nConfusion Matrix:\")\n",
    "print(cm_dt)\n",
    "\n",
    "sns.heatmap(cm_dt,annot=True,cmap='Blues')\n",
    "plt.title(\"Confusion Matrix\")\n"
   ]
  },
  {
   "cell_type": "markdown",
   "id": "ba0b3277",
   "metadata": {},
   "source": [
    "## Decision Tree Model \n",
    "Decision Trees classify data by learning simple decision rules inferred from features, forming a tree-like structure.\n",
    "\n",
    "Explanation: A DecisionTreeClassifier is initialized and trained, then used to predict on the test set.\n",
    "\n",
    "Performance Metrics\n",
    "Accuracy Score:\n",
    "Output: Decision Tree Accuracy: [e.g., 99.91]%\n",
    "Interpretation: Similar to Logistic Regression, overall accuracy can be deceptive; deeper analysis is required.\n",
    "\n"
   ]
  },
  {
   "cell_type": "code",
   "execution_count": 44,
   "id": "a0dbc5b8",
   "metadata": {},
   "outputs": [
    {
     "name": "stdout",
     "output_type": "stream",
     "text": [
      "\n",
      "Classification Report:\n",
      "              precision    recall  f1-score   support\n",
      "\n",
      "   Not Fraud       0.72      0.79      0.76       100\n",
      "       Fraud       1.00      1.00      1.00     56862\n",
      "\n",
      "    accuracy                           1.00     56962\n",
      "   macro avg       0.86      0.89      0.88     56962\n",
      "weighted avg       1.00      1.00      1.00     56962\n",
      "\n"
     ]
    }
   ],
   "source": [
    "print(\"\\nClassification Report:\")\n",
    "print(classification_report(y_test, y_pred_dt, target_names=['Not Fraud', 'Fraud']))"
   ]
  },
  {
   "cell_type": "markdown",
   "id": "1d0ad4d2",
   "metadata": {},
   "source": [
    "Interpretation: Highlights the precision, recall, and F1-score, with recall for 'Fraud' being a key indicator of fraud detection capability."
   ]
  },
  {
   "cell_type": "code",
   "execution_count": 43,
   "id": "2ca9e3df",
   "metadata": {},
   "outputs": [
    {
     "name": "stdout",
     "output_type": "stream",
     "text": [
      "Random Forest Accuracy:  99.95962220427653\n",
      "\n",
      "Confusion Matrix:\n",
      "[[   79    21]\n",
      " [   30 56832]]\n"
     ]
    },
    {
     "data": {
      "text/plain": [
       "Text(0.5, 1.0, 'Confusion Matrix')"
      ]
     },
     "execution_count": 43,
     "metadata": {},
     "output_type": "execute_result"
    },
    {
     "data": {
      "image/png": "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",
      "text/plain": [
       "<Figure size 640x480 with 2 Axes>"
      ]
     },
     "metadata": {},
     "output_type": "display_data"
    }
   ],
   "source": [
    "from sklearn.ensemble import RandomForestClassifier\n",
    "\n",
    "rf_model = RandomForestClassifier(random_state=42)\n",
    "\n",
    "rf_model.fit(x_train_sc, y_train)\n",
    "\n",
    "y_pred_rf = rf_model.predict(x_test_sc)\n",
    "\n",
    "rf_accu = accuracy_score(y_test, y_pred_rf)\n",
    "print(\"Random Forest Accuracy: \",rf_accu * 100)\n",
    "\n",
    "cm_rf = confusion_matrix(y_test, y_pred_dt)\n",
    "\n",
    "print(\"\\nConfusion Matrix:\")\n",
    "print(cm_rf)\n",
    "\n",
    "sns.heatmap(cm_rf,annot=True,cmap='Blues')\n",
    "plt.title(\"Confusion Matrix\")\n"
   ]
  },
  {
   "cell_type": "markdown",
   "id": "29e89f99",
   "metadata": {},
   "source": [
    "## Random Forest Model\n",
    "Random Forest is an ensemble method that builds multiple decision trees and merges their predictions to improve accuracy and control overfitting.\n",
    "\n",
    "Explanation: A RandomForestClassifier is trained on the scaled data, and predictions are made.\n",
    "\n",
    "Performance Metrics\n",
    "Accuracy Score:\n",
    "Output: Random Forest Accuracy: [e.g., 99.95]%\n",
    "Interpretation: Often higher than single trees, but still requires scrutiny beyond raw accuracy for imbalanced data."
   ]
  },
  {
   "cell_type": "code",
   "execution_count": 45,
   "id": "675a40ed",
   "metadata": {},
   "outputs": [
    {
     "name": "stdout",
     "output_type": "stream",
     "text": [
      "\n",
      "Classification Report:\n",
      "              precision    recall  f1-score   support\n",
      "\n",
      "   Not Fraud       0.94      0.82      0.88       100\n",
      "       Fraud       1.00      1.00      1.00     56862\n",
      "\n",
      "    accuracy                           1.00     56962\n",
      "   macro avg       0.97      0.91      0.94     56962\n",
      "weighted avg       1.00      1.00      1.00     56962\n",
      "\n"
     ]
    }
   ],
   "source": [
    "print(\"\\nClassification Report:\")\n",
    "print(classification_report(y_test, y_pred_rf, target_names=['Not Fraud', 'Fraud']))"
   ]
  },
  {
   "cell_type": "markdown",
   "id": "a69c8dfd",
   "metadata": {},
   "source": [
    "Interpretation: Generally shows robust performance across metrics due to its ensemble nature, making it suitable for fraud detection."
   ]
  },
  {
   "cell_type": "code",
   "execution_count": 49,
   "id": "1b876bf8",
   "metadata": {},
   "outputs": [
    {
     "name": "stdout",
     "output_type": "stream",
     "text": [
      "K-Nearest Neighbors Accuracy:  99.95611109160492\n",
      "\n",
      "Confusion Matrix:\n",
      "[[   79    21]\n",
      " [   30 56832]]\n"
     ]
    },
    {
     "data": {
      "text/plain": [
       "Text(0.5, 1.0, 'Confusion Matrix')"
      ]
     },
     "execution_count": 49,
     "metadata": {},
     "output_type": "execute_result"
    },
    {
     "data": {
      "image/png": "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",
      "text/plain": [
       "<Figure size 640x480 with 2 Axes>"
      ]
     },
     "metadata": {},
     "output_type": "display_data"
    }
   ],
   "source": [
    "from sklearn.neighbors import KNeighborsClassifier\n",
    "\n",
    "knn_model = KNeighborsClassifier()\n",
    "\n",
    "knn_model.fit(x_train_sc, y_train)\n",
    "\n",
    "y_pred_knn = knn_model.predict(x_test_sc)\n",
    "\n",
    "knn_accu = accuracy_score(y_test, y_pred_knn)\n",
    "print(\"K-Nearest Neighbors Accuracy: \",knn_accu * 100)\n",
    "\n",
    "cm_knn = confusion_matrix(y_test, y_pred_dt)\n",
    "\n",
    "print(\"\\nConfusion Matrix:\")\n",
    "print(cm_knn)\n",
    "\n",
    "sns.heatmap(cm_knn,annot=True,cmap='Blues')\n",
    "plt.title(\"Confusion Matrix\")\n"
   ]
  },
  {
   "cell_type": "markdown",
   "id": "694ce436",
   "metadata": {},
   "source": [
    "## K-Nearest Neighbors (KNN) Model\n",
    "KNN is a non-parametric, instance-based learning algorithm that classifies new data points based on the majority class of their 'k' nearest neighbors.\n",
    "\n",
    "Explanation: A KNeighborsClassifier is trained, and predictions are generated for the test set.\n",
    "\n",
    "Performance Metrics\n",
    "Accuracy Score:\n",
    "Output: K-Nearest Neighbors Accuracy: [e.g., 99.95]%\n",
    "Interpretation: KNN's performance is sensitive to k and feature scaling; accuracy alone is insufficient."
   ]
  },
  {
   "cell_type": "code",
   "execution_count": 46,
   "id": "07734d1d",
   "metadata": {},
   "outputs": [
    {
     "name": "stdout",
     "output_type": "stream",
     "text": [
      "\n",
      "Classification Report:\n",
      "              precision    recall  f1-score   support\n",
      "\n",
      "   Not Fraud       0.92      0.82      0.87       100\n",
      "       Fraud       1.00      1.00      1.00     56862\n",
      "\n",
      "    accuracy                           1.00     56962\n",
      "   macro avg       0.96      0.91      0.93     56962\n",
      "weighted avg       1.00      1.00      1.00     56962\n",
      "\n"
     ]
    }
   ],
   "source": [
    "print(\"\\nClassification Report:\")\n",
    "print(classification_report(y_test, y_pred_knn, target_names=['Not Fraud', 'Fraud']))"
   ]
  },
  {
   "cell_type": "markdown",
   "id": "a03e98df",
   "metadata": {},
   "source": [
    "Interpretation: Crucial for understanding the balance between precision and recall for the minority class."
   ]
  },
  {
   "cell_type": "code",
   "execution_count": 47,
   "id": "7ad0f6cc",
   "metadata": {},
   "outputs": [
    {
     "name": "stdout",
     "output_type": "stream",
     "text": [
      "SVM Accuracy:  99.9403110845827\n",
      "\n",
      "Confusion Matrix:\n",
      "[[   79    21]\n",
      " [   30 56832]]\n"
     ]
    },
    {
     "data": {
      "text/plain": [
       "Text(0.5, 1.0, 'Confusion Matrix')"
      ]
     },
     "execution_count": 47,
     "metadata": {},
     "output_type": "execute_result"
    },
    {
     "data": {
      "image/png": "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",
      "text/plain": [
       "<Figure size 640x480 with 2 Axes>"
      ]
     },
     "metadata": {},
     "output_type": "display_data"
    }
   ],
   "source": [
    "from sklearn.svm import SVC\n",
    "\n",
    "svm_model = SVC(random_state=42)\n",
    "\n",
    "svm_model.fit(x_train_sc, y_train)\n",
    "y_pred_svm = svm_model.predict(x_test_sc)\n",
    "\n",
    "svc_accu = accuracy_score(y_test, y_pred_svm)\n",
    "print(\"SVM Accuracy: \", svc_accu * 100)\n",
    "\n",
    "cm_svc = confusion_matrix(y_test, y_pred_dt)\n",
    "\n",
    "print(\"\\nConfusion Matrix:\")\n",
    "print(cm_svc)\n",
    "\n",
    "sns.heatmap(cm_svc,annot=True,cmap='Blues')\n",
    "plt.title(\"Confusion Matrix\")"
   ]
  },
  {
   "cell_type": "markdown",
   "id": "5caff829",
   "metadata": {},
   "source": [
    "## Support Vector Machine (SVM) Model\n",
    "SVMs are powerful supervised learning models that find an optimal hyperplane to separate data points into classes, maximizing the margin between them.\n",
    "\n",
    "Explanation: An SVC (Support Vector Classifier) is trained and used to make predictions.\n",
    "\n",
    "Performance Metrics\n",
    "Accuracy Score:\n",
    "Output: SVM Accuracy: [e.g., 99.94]%\n",
    "Interpretation: SVMs can achieve high accuracy but are computationally intensive for large datasets; raw accuracy needs careful interpretation."
   ]
  },
  {
   "cell_type": "code",
   "execution_count": 51,
   "id": "de693120",
   "metadata": {},
   "outputs": [
    {
     "name": "stdout",
     "output_type": "stream",
     "text": [
      "\n",
      "Classification Report:\n",
      "              precision    recall  f1-score   support\n",
      "\n",
      "   Not Fraud       0.95      0.70      0.80       100\n",
      "       Fraud       1.00      1.00      1.00     56862\n",
      "\n",
      "    accuracy                           1.00     56962\n",
      "   macro avg       0.97      0.85      0.90     56962\n",
      "weighted avg       1.00      1.00      1.00     56962\n",
      "\n"
     ]
    }
   ],
   "source": [
    "\n",
    "print(\"\\nClassification Report:\")\n",
    "print(classification_report(y_test, y_pred_svm, target_names=['Not Fraud', 'Fraud']))"
   ]
  },
  {
   "cell_type": "markdown",
   "id": "982fef0c",
   "metadata": {},
   "source": [
    "Interpretation: Evaluating precision and recall for the 'Fraud' class is key to assessing its practical utility."
   ]
  },
  {
   "cell_type": "code",
   "execution_count": 53,
   "id": "da6f79af",
   "metadata": {},
   "outputs": [
    {
     "name": "stdout",
     "output_type": "stream",
     "text": [
      "LDA Accuracy:  99.95435553526913\n",
      "LDA Confusion Matrix:\n",
      " [[   82    18]\n",
      " [    8 56854]]\n",
      "\n",
      "Confusion Matrix:\n",
      "[[   79    21]\n",
      " [   30 56832]]\n"
     ]
    },
    {
     "data": {
      "text/plain": [
       "Text(0.5, 1.0, 'Confusion Matrix')"
      ]
     },
     "execution_count": 53,
     "metadata": {},
     "output_type": "execute_result"
    },
    {
     "data": {
      "image/png": "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",
      "text/plain": [
       "<Figure size 640x480 with 2 Axes>"
      ]
     },
     "metadata": {},
     "output_type": "display_data"
    }
   ],
   "source": [
    "from sklearn.discriminant_analysis import LinearDiscriminantAnalysis\n",
    "\n",
    "lda_model = LinearDiscriminantAnalysis()\n",
    "lda_model.fit(x_train_sc, y_train)\n",
    "y_pred_lda = lda_model.predict(x_test_sc)\n",
    "\n",
    "lda_accu = accuracy_score(y_test, y_pred_lda)\n",
    "print(\"LDA Accuracy: \", lda_accu * 100)\n",
    "\n",
    "print(\"LDA Confusion Matrix:\\n\", confusion_matrix(y_test, y_pred_lda))\n",
    "\n",
    "cm_lda = confusion_matrix(y_test, y_pred_dt)\n",
    "\n",
    "print(\"\\nConfusion Matrix:\")\n",
    "print(cm_lda)\n",
    "\n",
    "sns.heatmap(cm_lda,annot=True,cmap='Blues')\n",
    "plt.title(\"Confusion Matrix\")"
   ]
  },
  {
   "cell_type": "markdown",
   "id": "c8f5131e",
   "metadata": {},
   "source": [
    "## Linear Discriminant Analysis (LDA) Model\n",
    "LDA is a classification and dimensionality reduction technique that projects data onto a lower-dimensional space to maximize class separability.\n",
    "\n",
    "Explanation: A LinearDiscriminantAnalysis model is trained and used for predictions.\n",
    "\n",
    "Performance Metrics\n",
    "Accuracy Score:\n",
    "Output: LDA Accuracy: [e.g., 99.95]%\n",
    "Interpretation: LDA assumes normal distribution and equal covariance; recall for fraud cases is critical."
   ]
  },
  {
   "cell_type": "code",
   "execution_count": 54,
   "id": "e8ed39db",
   "metadata": {},
   "outputs": [
    {
     "name": "stdout",
     "output_type": "stream",
     "text": [
      "\n",
      "Classification Report:\n",
      "              precision    recall  f1-score   support\n",
      "\n",
      "   Not Fraud       0.91      0.82      0.86       100\n",
      "       Fraud       1.00      1.00      1.00     56862\n",
      "\n",
      "    accuracy                           1.00     56962\n",
      "   macro avg       0.96      0.91      0.93     56962\n",
      "weighted avg       1.00      1.00      1.00     56962\n",
      "\n"
     ]
    }
   ],
   "source": [
    "\n",
    "print(\"\\nClassification Report:\")\n",
    "print(classification_report(y_test, y_pred_lda, target_names=['Not Fraud', 'Fraud']))"
   ]
  },
  {
   "cell_type": "markdown",
   "id": "45b9801c",
   "metadata": {},
   "source": [
    "Interpretation: Helps assess LDA's ability to distinguish classes based on its linear decision boundary."
   ]
  },
  {
   "cell_type": "code",
   "execution_count": 55,
   "id": "a8c3763e",
   "metadata": {},
   "outputs": [
    {
     "name": "stdout",
     "output_type": "stream",
     "text": [
      "Gaussian Naive Bayes Accuracy:  97.72655454513536\n",
      "Gaussian Naive Bayes Confusion Matrix:\n",
      " [[   87    13]\n",
      " [ 1282 55580]]\n",
      "\n",
      "Confusion Matrix:\n",
      "[[   79    21]\n",
      " [   30 56832]]\n"
     ]
    },
    {
     "data": {
      "text/plain": [
       "Text(0.5, 1.0, 'Confusion Matrix')"
      ]
     },
     "execution_count": 55,
     "metadata": {},
     "output_type": "execute_result"
    },
    {
     "data": {
      "image/png": "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",
      "text/plain": [
       "<Figure size 640x480 with 2 Axes>"
      ]
     },
     "metadata": {},
     "output_type": "display_data"
    }
   ],
   "source": [
    "from sklearn.naive_bayes import GaussianNB\n",
    "\n",
    "gnb_model = GaussianNB()\n",
    "gnb_model.fit(x_train_sc, y_train)\n",
    "y_pred_gnb = gnb_model.predict(x_test_sc)\n",
    "\n",
    "gnb_accu = accuracy_score(y_test, y_pred_gnb)\n",
    "print(\"Gaussian Naive Bayes Accuracy: \", gnb_accu * 100)\n",
    "\n",
    "print(\"Gaussian Naive Bayes Confusion Matrix:\\n\", confusion_matrix(y_test, y_pred_gnb))\n",
    "\n",
    "cm_gnb = confusion_matrix(y_test, y_pred_dt)\n",
    "\n",
    "print(\"\\nConfusion Matrix:\")\n",
    "print(cm_gnb)\n",
    "\n",
    "sns.heatmap(cm_gnb,annot=True,cmap='Blues')\n",
    "plt.title(\"Confusion Matrix\")"
   ]
  },
  {
   "cell_type": "markdown",
   "id": "6ef205bb",
   "metadata": {},
   "source": [
    "## Gaussian Naive Bayes Model\n",
    "Gaussian Naive Bayes is a probabilistic classifier based on Bayes' theorem, assuming feature independence and Gaussian distribution.\n",
    "\n",
    "Explanation: A GaussianNB model is trained and used to generate predictions.\n",
    "\n",
    "Performance Metrics\n",
    "Accuracy Score:\n",
    "Output: Gaussian Naive Bayes Accuracy: [e.g., 97.72]%\n",
    "Interpretation: Computationally efficient, but its strong independence assumption can limit performance on complex data."
   ]
  },
  {
   "cell_type": "code",
   "execution_count": 56,
   "id": "95ba31a8",
   "metadata": {},
   "outputs": [
    {
     "name": "stdout",
     "output_type": "stream",
     "text": [
      "\n",
      "Classification Report:\n",
      "              precision    recall  f1-score   support\n",
      "\n",
      "   Not Fraud       0.06      0.87      0.12       100\n",
      "       Fraud       1.00      0.98      0.99     56862\n",
      "\n",
      "    accuracy                           0.98     56962\n",
      "   macro avg       0.53      0.92      0.55     56962\n",
      "weighted avg       1.00      0.98      0.99     56962\n",
      "\n"
     ]
    }
   ],
   "source": [
    "\n",
    "print(\"\\nClassification Report:\")\n",
    "print(classification_report(y_test, y_pred_gnb, target_names=['Not Fraud', 'Fraud']))"
   ]
  },
  {
   "cell_type": "markdown",
   "id": "0a70fb90",
   "metadata": {},
   "source": [
    "Interpretation: Helps assess the balance between identifying true frauds (recall) and minimizing false alarms (precision)."
   ]
  },
  {
   "cell_type": "markdown",
   "id": "d8151be4",
   "metadata": {},
   "source": [
    "# 5. Conclusion\n",
    "\n",
    "This project shows just how challenging it is to detect fraud when real fraud cases are so rare in the data. Even though models like Random Forest reached over 99% accuracy, that number can be misleading. The confusion matrix and detailed metrics revealed that many fraudulent transactions still slipped through undetected — which is a big problem in banking.\n",
    "\n",
    "In fraud detection, catching as many real frauds as possible is more important than just having high overall accuracy. That’s why improving the recall for fraud cases should be the top priority. Going forward, it’s clear we need to move beyond basic models and try smarter solutions — like balancing the dataset with techniques such as SMOTE, trying better ensemble methods, or even cost-sensitive learning.\n",
    "\n",
    "By combining these advanced strategies, we can build a more reliable fraud detection system that actually protects customers and companies from hidden threats.\n"
   ]
  }
 ],
 "metadata": {
  "kernelspec": {
   "display_name": "Python 3",
   "language": "python",
   "name": "python3"
  },
  "language_info": {
   "codemirror_mode": {
    "name": "ipython",
    "version": 3
   },
   "file_extension": ".py",
   "mimetype": "text/x-python",
   "name": "python",
   "nbconvert_exporter": "python",
   "pygments_lexer": "ipython3",
   "version": "3.12.4"
  }
 },
 "nbformat": 4,
 "nbformat_minor": 5
}
