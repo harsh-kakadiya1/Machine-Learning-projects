{
  "nbformat": 4,
  "nbformat_minor": 0,
  "metadata": {
    "colab": {
      "provenance": []
    },
    "kernelspec": {
      "name": "python3",
      "display_name": "Python 3"
    },
    "language_info": {
      "name": "python"
    }
  },
  "cells": [
    {
      "cell_type": "markdown",
      "metadata": {
        "id": "95a17353"
      },
      "source": [
        "This cell imports necessary libraries and loads the dataset \"Advertising Budget and Sales.csv\" into a pandas DataFrame. It then displays the first few rows and provides information about the DataFrame, such as column names and data types."
      ]
    },
    {
      "cell_type": "code",
      "metadata": {
        "id": "f36ae5ce"
      },
      "source": [
        "import pandas as pd\n",
        "\n",
        "# Load the dataset\n",
        "df = pd.read_csv('Advertising Budget and Sales.csv')\n",
        "\n",
        "# Display the first few rows\n",
        "print(\"First 5 rows of the dataset:\")\n",
        "display(df.head())\n",
        "\n",
        "# Get information about the dataframe\n",
        "print(\"\\nDataFrame Info:\")\n",
        "df.info()"
      ],
      "execution_count": null,
      "outputs": []
    },
    {
      "cell_type": "markdown",
      "metadata": {
        "id": "70ccc0a5"
      },
      "source": [
        "This cell checks for missing values in each column of the DataFrame and displays the count of missing values for each column."
      ]
    },
    {
      "cell_type": "code",
      "metadata": {
        "id": "5496b379"
      },
      "source": [
        "# Check for missing values\n",
        "missing_values = df.isnull().sum()\n",
        "print(\"\\nMissing values in each column:\")\n",
        "display(missing_values)"
      ],
      "execution_count": null,
      "outputs": []
    },
    {
      "cell_type": "markdown",
      "metadata": {
        "id": "163f4254"
      },
      "source": [
        "This cell checks for duplicate rows in the DataFrame and prints the total number of duplicate rows found."
      ]
    },
    {
      "cell_type": "code",
      "metadata": {
        "id": "8de05ff0"
      },
      "source": [
        "# Check for duplicate rows\n",
        "duplicate_rows = df.duplicated().sum()\n",
        "print(f\"\\nNumber of duplicate rows: {duplicate_rows}\")"
      ],
      "execution_count": null,
      "outputs": []
    },
    {
      "cell_type": "markdown",
      "metadata": {
        "id": "ee8dbf28"
      },
      "source": [
        "This cell renames the column 'Unnamed: 0' to 'ID' and removes any trailing spaces from the column names."
      ]
    },
    {
      "cell_type": "code",
      "metadata": {
        "id": "9b88a7ad"
      },
      "source": [
        "df = df.rename(columns={'Unnamed: 0': 'ID'})\n",
        "df.columns = df.columns.str.replace(' ($)', '', regex=False)"
      ],
      "execution_count": null,
      "outputs": []
    },
    {
      "cell_type": "markdown",
      "metadata": {
        "id": "d995f219"
      },
      "source": [
        "This cell generates visualizations to explore the distribution of numerical columns ('TV Ad Budget', 'Radio Ad Budget', 'Newspaper Ad Budget', and 'Sales') using histograms. It also visualizes the relationships between advertising budgets and sales using scatter plots and displays the correlation matrix using a heatmap."
      ]
    },
    {
      "cell_type": "code",
      "metadata": {
        "id": "1acd960c"
      },
      "source": [
        "import matplotlib.pyplot as plt\n",
        "import seaborn as sns\n",
        "\n",
        "# Visualize the distribution of numerical columns\n",
        "numerical_cols = ['TV Ad Budget', 'Radio Ad Budget', 'Newspaper Ad Budget', 'Sales']\n",
        "\n",
        "plt.figure(figsize=(12, 8))\n",
        "for i, col in enumerate(numerical_cols):\n",
        "    plt.subplot(2, 2, i + 1)\n",
        "    sns.histplot(df[col], kde=True)\n",
        "    plt.title(f'Distribution of {col}')\n",
        "plt.tight_layout()\n",
        "plt.show()\n",
        "\n",
        "# Visualize the relationships between advertising budgets and sales using scatter plots\n",
        "plt.figure(figsize=(12, 4))\n",
        "plt.subplot(1, 3, 1)\n",
        "sns.scatterplot(x='TV Ad Budget', y='Sales', data=df)\n",
        "plt.title('TV Ad Budget vs Sales')\n",
        "\n",
        "plt.subplot(1, 3, 2)\n",
        "sns.scatterplot(x='Radio Ad Budget', y='Sales', data=df)\n",
        "plt.title('Radio Ad Budget vs Sales')\n",
        "\n",
        "plt.subplot(1, 3, 3)\n",
        "sns.scatterplot(x='Newspaper Ad Budget', y='Sales', data=df)\n",
        "plt.title('Newspaper Ad Budget vs Sales')\n",
        "plt.tight_layout()\n",
        "plt.show()\n",
        "\n",
        "# Visualize the correlation matrix using a heatmap\n",
        "plt.figure(figsize=(8, 6))\n",
        "correlation_matrix = df[numerical_cols].corr()\n",
        "sns.heatmap(correlation_matrix, annot=True, cmap='coolwarm', fmt=\".2f\")\n",
        "plt.title('Correlation Matrix')\n",
        "plt.show()"
      ],
      "execution_count": null,
      "outputs": []
    },
    {
      "cell_type": "markdown",
      "metadata": {
        "id": "acedc7f6"
      },
      "source": [
        "This cell visualizes the distribution of numerical columns using box plots to identify potential outliers."
      ]
    },
    {
      "cell_type": "code",
      "metadata": {
        "id": "2625f98c"
      },
      "source": [
        "import matplotlib.pyplot as plt\n",
        "import seaborn as sns\n",
        "\n",
        "# Visualize the distribution of numerical columns using box plots\n",
        "numerical_cols = ['TV Ad Budget', 'Radio Ad Budget', 'Newspaper Ad Budget', 'Sales']\n",
        "\n",
        "plt.figure(figsize=(12, 8))\n",
        "for i, col in enumerate(numerical_cols):\n",
        "    plt.subplot(2, 2, i + 1)\n",
        "    sns.boxplot(y=df[col])\n",
        "    plt.title(f'Boxplot of {col}')\n",
        "plt.tight_layout()\n",
        "plt.show()"
      ],
      "execution_count": null,
      "outputs": []
    },
    {
      "cell_type": "markdown",
      "metadata": {
        "id": "7b3f45da"
      },
      "source": [
        "This cell removes outliers from the 'Newspaper Ad Budget' column using the Interquartile Range (IQR) method and prints the shape of the DataFrame after removing the outliers."
      ]
    },
    {
      "cell_type": "code",
      "metadata": {
        "id": "9dd94341"
      },
      "source": [
        "# Remove outliers using IQR\n",
        "Q1 = df['Newspaper Ad Budget'].quantile(0.25)\n",
        "Q3 = df['Newspaper Ad Budget'].quantile(0.75)\n",
        "IQR = Q3 - Q1\n",
        "\n",
        "lower_bound = Q1 - 1.5 * IQR\n",
        "upper_bound = Q3 + 1.5 * IQR\n",
        "\n",
        "df= df[(df['Newspaper Ad Budget'] >= lower_bound) & (df['Newspaper Ad Budget'] <= upper_bound)].copy()\n",
        "\n",
        "print(f\"Shape after removing outliers: {df.shape}\")"
      ],
      "execution_count": null,
      "outputs": []
    },
    {
      "cell_type": "markdown",
      "metadata": {
        "id": "bf65eacf"
      },
      "source": [
        "This cell visualizes the distribution of numerical columns using box plots again after outlier removal to show the updated distributions."
      ]
    },
    {
      "cell_type": "code",
      "metadata": {
        "id": "7979212b"
      },
      "source": [
        "import matplotlib.pyplot as plt\n",
        "import seaborn as sns\n",
        "\n",
        "# Visualize the distribution of numerical columns using box plots\n",
        "numerical_cols = ['TV Ad Budget', 'Radio Ad Budget', 'Newspaper Ad Budget', 'Sales']\n",
        "\n",
        "plt.figure(figsize=(12, 8))\n",
        "for i, col in enumerate(numerical_cols):\n",
        "    plt.subplot(2, 2, i + 1)\n",
        "    sns.boxplot(y=df[col])\n",
        "    plt.title(f'Boxplot of {col}')\n",
        "plt.tight_layout()\n",
        "plt.show()"
      ],
      "execution_count": null,
      "outputs": []
    },
    {
      "cell_type": "markdown",
      "metadata": {
        "id": "8eaeeb56"
      },
      "source": [
        "This cell scales the numerical features ('TV Ad Budget', 'Radio Ad Budget', and 'Newspaper Ad Budget') using StandardScaler from scikit-learn."
      ]
    },
    {
      "cell_type": "code",
      "metadata": {
        "id": "921928ab"
      },
      "source": [
        "from sklearn.preprocessing import StandardScaler\n",
        "\n",
        "# Select numerical columns to scale (excluding 'ID' and 'Sales')\n",
        "numerical_cols_to_scale = ['TV Ad Budget', 'Radio Ad Budget', 'Newspaper Ad Budget']\n",
        "\n",
        "# Initialize the StandardScaler\n",
        "scaler = StandardScaler()\n",
        "\n",
        "df[numerical_cols_to_scale] = scaler.fit_transform(df[numerical_cols_to_scale])"
      ],
      "execution_count": null,
      "outputs": []
    },
    {
      "cell_type": "markdown",
      "metadata": {
        "id": "50c41227"
      },
      "source": [
        "This cell selects the features (independent variables) and the target (dependent variable) for the linear regression model. 'Radio Ad Budget', 'TV Ad Budget', and 'Newspaper Ad Budget' are selected as features (X) and 'Sales' is selected as the target (y)."
      ]
    },
    {
      "cell_type": "code",
      "metadata": {
        "id": "cb4c5ce8"
      },
      "source": [
        "X = df[['Radio Ad Budget', 'TV Ad Budget', 'Newspaper Ad Budget']]\n",
        "y = df['Sales']"
      ],
      "execution_count": null,
      "outputs": []
    },
    {
      "cell_type": "markdown",
      "metadata": {
        "id": "50a147c6"
      },
      "source": [
        "This cell splits the dataset into training and testing sets using `train_test_split` from scikit-learn. 80% of the data is used for training and 20% for testing."
      ]
    },
    {
      "cell_type": "code",
      "metadata": {
        "id": "b970eed2"
      },
      "source": [
        "from sklearn.model_selection import train_test_split\n",
        "\n",
        "X_train, X_test, y_train, y_test = train_test_split(X, y, test_size=0.2, random_state=3)"
      ],
      "execution_count": null,
      "outputs": []
    },
    {
      "cell_type": "markdown",
      "metadata": {
        "id": "a76414ee"
      },
      "source": [
        "This cell builds a linear regression model using `LinearRegression` from scikit-learn and trains it on the training data (`X_train` and `y_train`)."
      ]
    },
    {
      "cell_type": "code",
      "metadata": {
        "id": "1ac29c8c"
      },
      "source": [
        "from sklearn.linear_model import LinearRegression\n",
        "\n",
        "model = LinearRegression()\n",
        "model.fit(X_train, y_train)"
      ],
      "execution_count": null,
      "outputs": []
    },
    {
      "cell_type": "markdown",
      "metadata": {
        "id": "1a0d5220"
      },
      "source": [
        "This cell displays the intercept and coefficient of the trained linear regression model. The intercept represents the expected value of Sales when all advertising budgets are zero, and the coefficient represents the change in Sales for a one-unit increase in the corresponding advertising budget (since we are now using multiple features)."
      ]
    },
    {
      "cell_type": "code",
      "metadata": {
        "id": "9e291997"
      },
      "source": [
        "# Display the intercept and coefficients\n",
        "print(f\"Intercept: {model.intercept_}\")\n",
        "print(f\"Coefficients: {model.coef_}\")"
      ],
      "execution_count": null,
      "outputs": []
    },
    {
      "cell_type": "markdown",
      "metadata": {
        "id": "9f18a887"
      },
      "source": [
        "This cell uses the trained linear regression model to make predictions on the testing data (`X_test`). The predictions are stored in the variable `y_pred`."
      ]
    },
    {
      "cell_type": "code",
      "metadata": {
        "id": "602e9b5f"
      },
      "source": [
        "y_pred = model.predict(X_test)"
      ],
      "execution_count": null,
      "outputs": []
    },
    {
      "cell_type": "markdown",
      "metadata": {
        "id": "793836f3"
      },
      "source": [
        "This cell evaluates the performance of the trained linear regression model using common regression metrics: Mean Squared Error (MSE), Root Mean Squared Error (RMSE), and R-squared. These metrics quantify how well the model's predictions match the actual sales values."
      ]
    },
    {
      "cell_type": "code",
      "metadata": {
        "id": "fe8e0de9"
      },
      "source": [
        "from sklearn.metrics import mean_squared_error, r2_score\n",
        "import numpy as np\n",
        "\n",
        "# Calculate evaluation metrics\n",
        "mse = mean_squared_error(y_test, y_pred)\n",
        "rmse = np.sqrt(mse)\n",
        "r2 = r2_score(y_test, y_pred)\n",
        "\n",
        "# Print the metrics\n",
        "print(f\"Mean Squared Error (MSE): {mse}\")\n",
        "print(f\"Root Mean Squared Error (RMSE): {rmse}\")\n",
        "print(f\"R-squared (R2): {r2}\")"
      ],
      "execution_count": null,
      "outputs": []
    },
    {
      "cell_type": "markdown",
      "metadata": {
        "id": "10bcb29f"
      },
      "source": [
        "This cell generates a scatter plot comparing the actual sales values (`y_test`) against the predicted sales values (`y_pred`). A diagonal line is also plotted to represent the ideal scenario where predicted values exactly match actual values. This plot helps visualize the model's performance and identify any patterns in the errors."
      ]
    },
    {
      "cell_type": "code",
      "metadata": {
        "id": "ec6acb3c"
      },
      "source": [
        "plt.figure(figsize=(10, 6))\n",
        "plt.scatter(y_test, y_pred, color='blue')\n",
        "plt.plot([y_test.min(), y_test.max()], [y_test.min(), y_test.max()], 'k', lw=2)\n",
        "plt.xlabel('Actual Sales')\n",
        "plt.ylabel('Predicted Sales')\n",
        "plt.title('Actual Sales vs. Predicted Sales')\n",
        "plt.show()"
      ],
      "execution_count": null,
      "outputs": []
    },
    {
      "cell_type": "markdown",
      "source": [
        "## Summary:\n",
        "\n",
        "### Data Analysis Key Findings\n",
        "\n",
        "*   The trained linear regression model has an intercept of approximately 7.12 and a coefficient of approximately 0.0465. This suggests that for every additional dollar spent on TV advertising, sales are predicted to increase by approximately \\$0.0465.\n",
        "*   The model performance metrics on the test set are:\n",
        "    *   Mean Squared Error (MSE): approximately 10.20\n",
        "    *   Root Mean Squared Error (RMSE): approximately 3.19\n",
        "    *   R-squared (R2): approximately 0.677\n",
        "*   The R-squared value of 0.677 indicates that approximately 67.7% of the variance in Sales can be explained by the TV Ad Budget according to this simple linear regression model.\n",
        "*   The plot shows the actual sales data points and the fitted regression line, illustrating the relationship between TV Ad Budget and Sales and how the model captures this trend.\n",
        "\n",
        "### Insights or Next Steps\n",
        "\n",
        "*   The relatively high R-squared value suggests that TV ad budget is a significant predictor of sales, but there are other factors influencing sales that are not captured by this simple model.\n",
        "*   Consider exploring multiple linear regression to include other advertising budgets (Radio and Newspaper) to see if the model performance improves."
      ],
      "metadata": {
        "id": "VsoqL3viEUu6"
      }
    }
  ]
}